{
 "cells": [
  {
   "cell_type": "markdown",
   "metadata": {},
   "source": [
    "# Zad 1\n",
    "\n",
    "\n",
    "Napisz funkcję (lub funkcje), które zwrócą maksymalną spośród 3 liczb.\n",
    "\n",
    "W rozwiązaniu skorzystaj tylko z możliwośći definiowania funkcji i używania w nich operatorów porównania"
   ]
  },
  {
   "cell_type": "code",
   "execution_count": 11,
   "metadata": {},
   "outputs": [],
   "source": [
    "def max_z_dwoch(a, b):\n",
    "    if a > b:\n",
    "        return a\n",
    "    return b\n",
    "\n",
    "def max_z_trzech(x, y, z):    \n",
    "    return max_z_dwoch(x, max_z_dwoch(y, z))"
   ]
  },
  {
   "cell_type": "code",
   "execution_count": 13,
   "metadata": {},
   "outputs": [],
   "source": [
    "assert 0 == max_z_trzech(0,0,0)\n",
    "assert 3 == max_z_trzech(1, 2, 3)\n",
    "assert 10 == max_z_trzech(10, 2, -3)"
   ]
  },
  {
   "cell_type": "markdown",
   "metadata": {},
   "source": [
    "## Zad 2\n",
    "\n",
    "Napisz funkcję, która:\n",
    "\n",
    "1. Jeśli jej argument będzie listą, tuplą bądź zbiorem, zwróci sumę jej elementów\n",
    "\n",
    "2. Jeśli jej argument będzie słownikiem, zwróci sumę wartości\n",
    "\n",
    "W obu przypadkach ignoruj napisy - o ile napisy nie reprezentują liczb"
   ]
  },
  {
   "cell_type": "code",
   "execution_count": 27,
   "metadata": {},
   "outputs": [],
   "source": [
    "def sumator(arg):\n",
    "    total = 0\n",
    "    if isinstance(arg, dict):\n",
    "        arg = arg.values()\n",
    "    for x in arg:\n",
    "        try:\n",
    "            x = int(x)\n",
    "            total += x\n",
    "        except ValueError:\n",
    "            pass\n",
    "    return total\n",
    "    \n",
    "    "
   ]
  },
  {
   "cell_type": "code",
   "execution_count": 26,
   "metadata": {},
   "outputs": [
    {
     "data": {
      "text/plain": [
       "dict_values([10, 20, 30, '40'])"
      ]
     },
     "execution_count": 26,
     "metadata": {},
     "output_type": "execute_result"
    }
   ],
   "source": [
    "my_dict = {'a': 10, 1: 20, 'c':30, 'd': '40'}\n",
    "my_dict.values()"
   ]
  },
  {
   "cell_type": "code",
   "execution_count": 28,
   "metadata": {},
   "outputs": [],
   "source": [
    "assert sumator([1, 2, 3]) == 6\n",
    "assert sumator({10, 20, 30}) == 60\n",
    "assert sumator([1, 2, 'a', 3]) == 6\n",
    "assert sumator([1, 2, '4', 3]) == 10\n",
    "assert sumator({'a': 10, 1: 20, 'c':30, 'd': '40'}) == 100 \n"
   ]
  },
  {
   "cell_type": "markdown",
   "metadata": {},
   "source": [
    "## Zad 3\n",
    "Napisz funkcję, która sprawdzi czy podany napis jest palindromem"
   ]
  },
  {
   "cell_type": "code",
   "execution_count": null,
   "metadata": {},
   "outputs": [],
   "source": []
  },
  {
   "cell_type": "code",
   "execution_count": null,
   "metadata": {},
   "outputs": [],
   "source": []
  },
  {
   "cell_type": "code",
   "execution_count": null,
   "metadata": {},
   "outputs": [],
   "source": []
  },
  {
   "cell_type": "markdown",
   "metadata": {},
   "source": [
    "## zad 4\n",
    "\n",
    "\n",
    "\n",
    "Napisz funkcję, które wypisze n pierwszych wierszy trójkąta Pascala\n",
    "\n",
    "\n",
    "\n",
    "## Zad 5\n",
    "\n",
    "\n",
    "\n",
    "Napisz funkcję, która sprawdzi, czy napis jest pangramem.\n",
    "\n",
    "\n",
    "\n",
    "## Zad 6\n",
    "\n",
    "\n",
    "\n",
    "Napisz funkcję, które sprawdzi, czy zadana liczba jest doskonała\n",
    "\n",
    "\n",
    "\n",
    "## Zad 7\n",
    "\n",
    "\n",
    "\n",
    "Napisz dekorator, który będzie printował w konsoli czas wykonania dekorowanej funkcji."
   ]
  },
  {
   "cell_type": "code",
   "execution_count": null,
   "metadata": {},
   "outputs": [],
   "source": []
  },
  {
   "cell_type": "code",
   "execution_count": null,
   "metadata": {},
   "outputs": [],
   "source": []
  },
  {
   "cell_type": "code",
   "execution_count": null,
   "metadata": {},
   "outputs": [],
   "source": []
  }
 ],
 "metadata": {
  "kernelspec": {
   "display_name": "Python 3",
   "language": "python",
   "name": "python3"
  },
  "language_info": {
   "codemirror_mode": {
    "name": "ipython",
    "version": 3
   },
   "file_extension": ".py",
   "mimetype": "text/x-python",
   "name": "python",
   "nbconvert_exporter": "python",
   "pygments_lexer": "ipython3",
   "version": "3.7.0"
  }
 },
 "nbformat": 4,
 "nbformat_minor": 2
}
