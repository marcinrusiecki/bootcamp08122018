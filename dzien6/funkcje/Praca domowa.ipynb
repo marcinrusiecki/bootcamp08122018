{
 "cells": [
  {
   "cell_type": "markdown",
   "metadata": {},
   "source": [
    "# Zad 1\n",
    "\n",
    "\n",
    "Napisz funkcję (lub funkcje), które zwrócą maksymalną spośród 3 liczb.\n",
    "\n",
    "W rozwiązaniu skorzystaj tylko z możliwośći definiowania funkcji i używania w nich operatorów porównania"
   ]
  },
  {
   "cell_type": "code",
   "execution_count": 11,
   "metadata": {},
   "outputs": [],
   "source": [
    "def max_z_dwoch(a, b):\n",
    "    if a > b:\n",
    "        return a\n",
    "    return b\n",
    "\n",
    "def max_z_trzech(x, y, z):    \n",
    "    return max_z_dwoch(x, max_z_dwoch(y, z))"
   ]
  },
  {
   "cell_type": "code",
   "execution_count": 13,
   "metadata": {},
   "outputs": [],
   "source": [
    "assert 0 == max_z_trzech(0,0,0)\n",
    "assert 3 == max_z_trzech(1, 2, 3)\n",
    "assert 10 == max_z_trzech(10, 2, -3)"
   ]
  },
  {
   "cell_type": "markdown",
   "metadata": {},
   "source": [
    "## Zad 2\n",
    "\n",
    "Napisz funkcję, która:\n",
    "\n",
    "1. Jeśli jej argument będzie listą, tuplą bądź zbiorem, zwróci sumę jej elementów\n",
    "\n",
    "2. Jeśli jej argument będzie słownikiem, zwróci sumę wartości\n",
    "\n",
    "W obu przypadkach ignoruj napisy - o ile napisy nie reprezentują liczb"
   ]
  },
  {
   "cell_type": "code",
   "execution_count": 27,
   "metadata": {},
   "outputs": [],
   "source": [
    "def sumator(arg):\n",
    "    total = 0\n",
    "    if isinstance(arg, dict):\n",
    "        arg = arg.values()\n",
    "    for x in arg:\n",
    "        try:\n",
    "            x = int(x)\n",
    "            total += x\n",
    "        except ValueError:\n",
    "            pass\n",
    "    return total\n",
    "    \n",
    "    "
   ]
  },
  {
   "cell_type": "code",
   "execution_count": 26,
   "metadata": {},
   "outputs": [
    {
     "data": {
      "text/plain": [
       "dict_values([10, 20, 30, '40'])"
      ]
     },
     "execution_count": 26,
     "metadata": {},
     "output_type": "execute_result"
    }
   ],
   "source": [
    "my_dict = {'a': 10, 1: 20, 'c':30, 'd': '40'}\n",
    "my_dict.values()"
   ]
  },
  {
   "cell_type": "code",
   "execution_count": 28,
   "metadata": {},
   "outputs": [],
   "source": [
    "assert sumator([1, 2, 3]) == 6\n",
    "assert sumator({10, 20, 30}) == 60\n",
    "assert sumator([1, 2, 'a', 3]) == 6\n",
    "assert sumator([1, 2, '4', 3]) == 10\n",
    "assert sumator({'a': 10, 1: 20, 'c':30, 'd': '40'}) == 100 \n"
   ]
  },
  {
   "cell_type": "markdown",
   "metadata": {},
   "source": [
    "## Zad 3\n",
    "Napisz funkcję, która sprawdzi czy podany napis jest palindromem"
   ]
  },
  {
   "cell_type": "code",
   "execution_count": 34,
   "metadata": {},
   "outputs": [],
   "source": [
    "def czy_palindrom(tekst):\n",
    "    tekst = \"\".join(tekst.lower().split())\n",
    "    \n",
    "    lewy = 0\n",
    "    prawy = len(tekst) - 1\n",
    "\n",
    "    while prawy >= lewy:\n",
    "        if not tekst[lewy] == tekst[prawy]:\n",
    "            return False\n",
    "        lewy += 1\n",
    "        prawy -= 1\n",
    "\n",
    "    return True\n"
   ]
  },
  {
   "cell_type": "code",
   "execution_count": 41,
   "metadata": {},
   "outputs": [],
   "source": [
    "def czy_palindrom(tekst):\n",
    "    tekst = \"\".join(tekst.lower().split())\n",
    "    return tekst == tekst[::-1]\n"
   ]
  },
  {
   "cell_type": "code",
   "execution_count": 42,
   "metadata": {},
   "outputs": [],
   "source": [
    "assert czy_palindrom(\"Kobyła ma mały bok\") == True\n",
    "assert czy_palindrom(\"Zakopane na pokaz\") == True\n",
    "assert czy_palindrom(\"Ala ma kota\") == False"
   ]
  },
  {
   "cell_type": "markdown",
   "metadata": {},
   "source": [
    "## zad 4\n",
    "\n",
    "Napisz funkcję, które wypisze n pierwszych wierszy trójkąta Pascala\n",
    "\n",
    "print_pascal(4)\n",
    "\n",
    "          1\n",
    "        1   1\n",
    "      1   2   1\n",
    "    1   3   3   1\n",
    "\n",
    "\n",
    "\n",
    "\n",
    "\n",
    "\n"
   ]
  },
  {
   "cell_type": "code",
   "execution_count": 69,
   "metadata": {},
   "outputs": [
    {
     "name": "stdout",
     "output_type": "stream",
     "text": [
      "                                  1 \n",
      "                               1     1 \n",
      "                            1     2     1 \n",
      "                         1     3     3     1 \n",
      "                      1     4     6     4     1 \n",
      "                   1     5    10    10     5     1 \n",
      "                1     6    15    20    15     6     1 \n",
      "             1     7    21    35    35    21     7     1 \n",
      "          1     8    28    56    70    56    28     8     1 \n",
      "       1     9    36    84   126   126    84    36     9     1 \n"
     ]
    }
   ],
   "source": [
    "def trojkat_pascala(n):\n",
    "    a = [[1]]\n",
    "    i = 1\n",
    "    \n",
    "    for i in range(1, n):\n",
    "        a.append([1])\n",
    "        for j in range(1, i):\n",
    "            a[i].append(a[i-1][j-1]+a[i-1][j])\n",
    "        a[i].append(1)\n",
    "\n",
    "    return a     \n",
    "\n",
    "def print_pascal(a):\n",
    "    n = len(a)\n",
    "    for i, row in enumerate(a):\n",
    "        print(\"   \"*(n-i), end=\"\")\n",
    "        for col in row:\n",
    "            print(f'{col:5}', end=\" \")\n",
    "        print()\n",
    "\n",
    "# def trojkat_pascala2(n):\n",
    "#     \"działa tylko do n = 7\"\n",
    "#     return(11**i for i in range(n))\n",
    "\n",
    "a = trojkat_pascala(10)\n",
    "print_pascal(a)\n"
   ]
  },
  {
   "cell_type": "code",
   "execution_count": 46,
   "metadata": {},
   "outputs": [
    {
     "data": {
      "text/plain": [
       "[1, 2, 3, 4]"
      ]
     },
     "execution_count": 46,
     "metadata": {},
     "output_type": "execute_result"
    }
   ],
   "source": [
    "[[1], [1, ]]"
   ]
  },
  {
   "cell_type": "code",
   "execution_count": 43,
   "metadata": {},
   "outputs": [
    {
     "ename": "NameError",
     "evalue": "name 'trojkat_pascala' is not defined",
     "output_type": "error",
     "traceback": [
      "\u001b[1;31m---------------------------------------------------------------------------\u001b[0m",
      "\u001b[1;31mNameError\u001b[0m                                 Traceback (most recent call last)",
      "\u001b[1;32m<ipython-input-43-e710364d9f6b>\u001b[0m in \u001b[0;36m<module>\u001b[1;34m\u001b[0m\n\u001b[1;32m----> 1\u001b[1;33m \u001b[1;32massert\u001b[0m \u001b[1;33m[\u001b[0m\u001b[1;33m[\u001b[0m\u001b[1;36m1\u001b[0m\u001b[1;33m]\u001b[0m\u001b[1;33m]\u001b[0m \u001b[1;33m==\u001b[0m \u001b[0mtrojkat_pascala\u001b[0m\u001b[1;33m(\u001b[0m\u001b[1;36m1\u001b[0m\u001b[1;33m)\u001b[0m\u001b[1;33m\u001b[0m\u001b[0m\n\u001b[0m\u001b[0;32m      2\u001b[0m \u001b[1;32massert\u001b[0m \u001b[1;33m[\u001b[0m\u001b[1;33m[\u001b[0m\u001b[1;36m1\u001b[0m\u001b[1;33m]\u001b[0m\u001b[1;33m,\u001b[0m \u001b[1;33m[\u001b[0m\u001b[1;36m1\u001b[0m\u001b[1;33m,\u001b[0m \u001b[1;36m1\u001b[0m\u001b[1;33m]\u001b[0m\u001b[1;33m]\u001b[0m \u001b[1;33m==\u001b[0m \u001b[0mtrojkat_pascala\u001b[0m\u001b[1;33m(\u001b[0m\u001b[1;36m2\u001b[0m\u001b[1;33m)\u001b[0m\u001b[1;33m\u001b[0m\u001b[0m\n\u001b[0;32m      3\u001b[0m \u001b[1;32massert\u001b[0m \u001b[1;33m[\u001b[0m\u001b[1;33m[\u001b[0m\u001b[1;36m1\u001b[0m\u001b[1;33m]\u001b[0m\u001b[1;33m,\u001b[0m \u001b[1;33m[\u001b[0m\u001b[1;36m1\u001b[0m\u001b[1;33m,\u001b[0m \u001b[1;36m1\u001b[0m\u001b[1;33m]\u001b[0m\u001b[1;33m,\u001b[0m \u001b[1;33m[\u001b[0m\u001b[1;36m1\u001b[0m\u001b[1;33m,\u001b[0m \u001b[1;36m2\u001b[0m\u001b[1;33m,\u001b[0m \u001b[1;36m1\u001b[0m\u001b[1;33m]\u001b[0m\u001b[1;33m,\u001b[0m \u001b[1;33m[\u001b[0m\u001b[1;36m1\u001b[0m\u001b[1;33m,\u001b[0m \u001b[1;36m3\u001b[0m\u001b[1;33m,\u001b[0m \u001b[1;36m3\u001b[0m\u001b[1;33m,\u001b[0m \u001b[1;36m1\u001b[0m\u001b[1;33m]\u001b[0m\u001b[1;33m]\u001b[0m \u001b[1;33m==\u001b[0m \u001b[0mtrojkat_pascala\u001b[0m\u001b[1;33m(\u001b[0m\u001b[1;36m4\u001b[0m\u001b[1;33m)\u001b[0m\u001b[1;33m\u001b[0m\u001b[0m\n",
      "\u001b[1;31mNameError\u001b[0m: name 'trojkat_pascala' is not defined"
     ]
    }
   ],
   "source": [
    "assert [[1]] == trojkat_pascala(1)\n",
    "assert [[1], [1, 1]] == trojkat_pascala(2)\n",
    "assert [[1], [1, 1], [1, 2, 1], [1, 3, 3, 1]] == trojkat_pascala(4)"
   ]
  },
  {
   "cell_type": "markdown",
   "metadata": {},
   "source": [
    "## Zad 5\n",
    "Napisz funkcję, która sprawdzi, czy napis jest pangramem."
   ]
  },
  {
   "cell_type": "code",
   "execution_count": 90,
   "metadata": {},
   "outputs": [],
   "source": [
    "import string\n",
    "\n",
    "string.ascii_lowercase\n",
    "\n",
    "def czy_pangram(napis, alfabet=string.ascii_lowercase):\n",
    "    napis = \"\".join(napis.lower().split())\n",
    "    return set(napis) == set(alfabet)\n",
    "    \n"
   ]
  },
  {
   "cell_type": "code",
   "execution_count": 91,
   "metadata": {},
   "outputs": [],
   "source": [
    "assert czy_pangram(\"The quick brown fox jumps over the lazy dog\") == True\n",
    "assert czy_pangram(\"ala ma kota\") == False\n",
    "\n",
    "alfabet = \"abcdefghijklmnoprstuwyząęćłńóśźż\"\n",
    "assert czy_pangram(\"Pchnąć w tę łódź jeża lub ośm skrzyń fig\", alfabet) == True\n"
   ]
  },
  {
   "cell_type": "markdown",
   "metadata": {},
   "source": [
    "## Zad 6\n",
    "\n",
    "Napisz funkcję, które sprawdzi, czy zadana liczba jest doskonała"
   ]
  },
  {
   "cell_type": "code",
   "execution_count": 101,
   "metadata": {},
   "outputs": [],
   "source": [
    "\n",
    "def liczba_doskonala(liczba):\n",
    "    \"\"\"\n",
    "        pomysły na optymalizację:\n",
    "        1. sprawdzenie dzielenia tylko do ~ n/2\n",
    "        2. jeśli coś nie jest podzielne przez 2 to nie bedzie też przez żadną liczbę parzystą\n",
    "        3. nie znaleziono dotąd żadnej liczby doskonałej, która jest nieparzysta\n",
    "    \n",
    "    \"\"\"\n",
    "    total = 0\n",
    "    for a in range(1, liczba):\n",
    "        if liczba%a == 0:\n",
    "            total += a\n",
    "    \n",
    "    return total == liczba\n",
    "    "
   ]
  },
  {
   "cell_type": "code",
   "execution_count": 94,
   "metadata": {},
   "outputs": [],
   "source": [
    "assert liczba_doskonala(6) == True\n",
    "assert liczba_doskonala(7) == False\n",
    "assert liczba_doskonala(28) == True\n",
    "assert liczba_doskonala(496) == True\n",
    "\n",
    "assert liczba_doskonala(33550336) == True"
   ]
  },
  {
   "cell_type": "code",
   "execution_count": null,
   "metadata": {},
   "outputs": [],
   "source": []
  },
  {
   "cell_type": "markdown",
   "metadata": {},
   "source": [
    "## Zad 7\n",
    "\n",
    "Napisz dekorator, który będzie printował w konsoli czas wykonania dekorowanej funkcji."
   ]
  },
  {
   "cell_type": "code",
   "execution_count": 100,
   "metadata": {},
   "outputs": [],
   "source": [
    "import time\n",
    "def czas_wykonania(dekorowana_funkcja):\n",
    "    \n",
    "    def wrapper(*args, **kwargs):\n",
    "        start = time.time()\n",
    "        wynik = dekorowana_funkcja(*args, **kwargs)\n",
    "        stop = time.time()\n",
    "        print(f\"Czas wykonania funkcji {dekorowana_funkcja.__name__} z argumentami {args}, {kwargs} wynosi {stop-start} s\")\n",
    "        return wynik\n",
    "    \n",
    "    return wrapper"
   ]
  },
  {
   "cell_type": "code",
   "execution_count": 102,
   "metadata": {},
   "outputs": [],
   "source": [
    "liczba_doskonala = czas_wykonania(liczba_doskonala)"
   ]
  },
  {
   "cell_type": "code",
   "execution_count": 1,
   "metadata": {},
   "outputs": [
    {
     "ename": "NameError",
     "evalue": "name 'liczba_doskonala' is not defined",
     "output_type": "error",
     "traceback": [
      "\u001b[1;31m---------------------------------------------------------------------------\u001b[0m",
      "\u001b[1;31mNameError\u001b[0m                                 Traceback (most recent call last)",
      "\u001b[1;32m<ipython-input-1-fa1ca0a00fb6>\u001b[0m in \u001b[0;36m<module>\u001b[1;34m\u001b[0m\n\u001b[1;32m----> 1\u001b[1;33m \u001b[0mliczba_doskonala\u001b[0m\u001b[1;33m(\u001b[0m\u001b[1;36m10000000\u001b[0m\u001b[1;33m)\u001b[0m\u001b[1;33m\u001b[0m\u001b[0m\n\u001b[0m",
      "\u001b[1;31mNameError\u001b[0m: name 'liczba_doskonala' is not defined"
     ]
    }
   ],
   "source": [
    "liczba_doskonala(10000000)"
   ]
  },
  {
   "cell_type": "code",
   "execution_count": null,
   "metadata": {},
   "outputs": [],
   "source": []
  }
 ],
 "metadata": {
  "kernelspec": {
   "display_name": "Python 3",
   "language": "python",
   "name": "python3"
  },
  "language_info": {
   "codemirror_mode": {
    "name": "ipython",
    "version": 3
   },
   "file_extension": ".py",
   "mimetype": "text/x-python",
   "name": "python",
   "nbconvert_exporter": "python",
   "pygments_lexer": "ipython3",
   "version": "3.7.0"
  }
 },
 "nbformat": 4,
 "nbformat_minor": 2
}
