{
 "cells": [
  {
   "cell_type": "markdown",
   "metadata": {},
   "source": [
    "# Co to jest Programowanie Zorientowane Obiektowo \n",
    "\n",
    "Poznając funkcje otarliśmy się o programowanie proceduralne, czyli taki paradygmat programowania, w którym kod podzielony jest na fragmenty zwane procedurami, które wykonują ściśle określone operacje. Takie procedury nie są ściśle powiązane z danymi. Dane do nich przekazywane są jako parametr wywołania.\n",
    "\n",
    "OOP (Object-Oriented Programming) to inny paradygmat programowania, w którym programy definiuje się za pomocą obiektów - czyli takich elementów które łączą ze sobą stan (dane) i zachowanie (metody). Obiekty mogą komunikować się ze sobą w celu wykonania zadań. \n",
    "\n",
    "Na przykład obiekt może reprezentować osobę o właściwościach: nazwa, wiek, adres itp. \n",
    "Z zachowaniami takimi jak chodzenie, mówienie, oddychanie i bieganie. \n",
    "Inny przykład to np e-mail z takimi cechami reprezentującymi stan jak: lista adresatów, temat, treść itp. \n",
    "Oraz z zachowaniami, takimi jak dodawanie załączników i wysyłanie.\n",
    "\n",
    "Obiekty takie możemy przedstawić np na diagramach UML:\n",
    "\n",
    "https://www.uml-diagrams.org/class-reference.html\n",
    "\n",
    "\n",
    "<table style=\"width:25%\">\n",
    "<tr><th style=\"text-align: center; border: 1px solid black\">Osoba</th></tr>\n",
    "<tr><td style=\"text-align: center; border: 1px solid black\"> imie <br>nazwisko <br>wiek </td></tr>\n",
    "<tr><td style=\"text-align: center; border: 1px solid black\"> chodz() <br>mow() <br>wstan()</td></tr>\n",
    "</table>\n",
    "\n",
    "\n",
    "\n"
   ]
  },
  {
   "cell_type": "markdown",
   "metadata": {},
   "source": [
    "### Dane\n",
    "\n",
    "Pierwotne struktury danych dostępne w Pythonie, takie jak liczby, łańcuchy i listy, mają na celu reprezentowanie prostych rzeczy, takich jak koszt czegoś, nazwa wiersza i ulubione kolory.\n",
    "\n",
    "A co jeśli chciałbyś przedstawić coś znacznie bardziej skomplikowanego?\n",
    "Powiedzmy, że chcesz śledzić wiele różnych zwierząt. Jeśli użyłeś listy, pierwszym elementem może być nazwa zwierzęcia, podczas gdy drugi element może przedstawiać jego wiek.\n",
    "\n",
    "Skąd wiesz, który element ma być który? Co jeśli miałbyś 100 różnych zwierząt? Czy jesteś pewien, że każde zwierzę ma imię i wiek, i tak dalej? Co jeśli chcesz dodać inne właściwości do tych zwierząt? W takich sytuacjach te podstawowe struktury okazują się co najmniej niewygodne, jeśli nie nie wystarczające. Brakuje tu możliwości lepszej organizacji kodu i właśnie ten problem pomogą nam rozwiązać klasy\n",
    "\n",
    "Klasy są używane do tworzenia nowych struktur danych zdefiniowanych przez użytkownika, które zawierają dowolne informacje o czymś. W przypadku zwierząt możemy stworzyć klasę `Animal`, która będzie przechowywać właściwości dotyczące zwierzęcia, takie jak imię i wiek."
   ]
  },
  {
   "cell_type": "code",
   "execution_count": 5,
   "metadata": {},
   "outputs": [],
   "source": [
    "class Animal:\n",
    "    pass"
   ]
  },
  {
   "cell_type": "markdown",
   "metadata": {},
   "source": [
    "Ważne jest, aby zauważyć, że klasa po prostu zapewnia strukturę - jest to plan określający, jak coś powinno być zdefiniowane, ale w rzeczywistości nie dostarcza prawdziwej treści. Klasa `Animal` może określać, że imię i wiek są niezbędne do zdefiniowania zwierzęcia, ale nie będzie ono zawierało informacji o nazwie ani wieku konkretnego zwierzęcia.\n",
    "\n",
    "Pomóc może myśleć o klasie jako o idei, jak coś należy zdefiniować.\n",
    "\n",
    "### Instancje klasy - obiekty\n",
    "\n",
    "Podczas gdy klasa jest schematem, instancja jest kopią, urzeczywistnieniem klasy z konkretnymi wartościami, dosłownie jest ona obiektem należącym do określonej klasy. To już nie jest idea; to prawdziwe zwierzę, jak pies o imieniu Rex, który ma 10 lat.\n",
    "\n",
    "Innymi słowy, klasa jest jak formularz lub kwestionariusz. Definiuje potrzebne informacje. Po wypełnieniu formularza zwracana jest kopia - zwana instancją klasy; zawiera rzeczywiste informacje, przypisane do konkretnego egzemplarza"
   ]
  },
  {
   "cell_type": "code",
   "execution_count": 7,
   "metadata": {},
   "outputs": [
    {
     "name": "stdout",
     "output_type": "stream",
     "text": [
      "<__main__.Animal object at 0x7f2880313400>\n",
      "<__main__.Animal object at 0x7f28803133c8>\n",
      "Rex\n",
      "5\n"
     ]
    }
   ],
   "source": [
    "reksio = Animal()\n",
    "mruczek = Animal()\n",
    "print(reksio)\n",
    "print(mruczek)\n",
    "\n",
    "\n",
    "reksio.imie = \"Rex\"\n",
    "reksio.wiek = 5\n",
    "print(reksio.imie)\n",
    "print(reksio.wiek)\n"
   ]
  },
  {
   "cell_type": "markdown",
   "metadata": {},
   "source": [
    "Jak widać można wypełnić wiele kopii, aby utworzyć wiele różnych instancji, ale bez formularza jako przewodnika, zagubisz się, nie wiedząc, jakie informacje są wymagane. Dlatego przed utworzeniem poszczególnych instancji obiektu musimy najpierw określić, co jest potrzebne, definiując klasę.\n",
    "\n",
    "\n",
    "powyżej przypisywaliśmy atrybuty do instancji po utworzeniu instacji. Taki sposób na ogół nie jest wygodny. W ten sposób nie możemy też kontrolować np tego jakie atrybuty powinny być wymagane przy tworzeniu instancji danej klasy. Jest jednak na to pewien sposób - a mianowicie zdefiniowanie w klasie przepisu w jaki obiekty danej klasy powinny być inicjowane:\n"
   ]
  },
  {
   "cell_type": "code",
   "execution_count": 8,
   "metadata": {},
   "outputs": [],
   "source": [
    "class Animal:\n",
    "    \n",
    "    def  __init__(self, name, age, species):\n",
    "        self.name = name\n",
    "        self.age = age\n",
    "        self.species = species"
   ]
  },
  {
   "cell_type": "markdown",
   "metadata": {},
   "source": [
    "Jak widać w przepisie tym nie wiemy jak się będzie nazywać zmienna reprezentująca daną instancję. Możemy jednak przy pomocy słówka `self` wskazać, że chodzi o tę konkretną nazwę. Metoda `__init__` to taka specjalna metoda, którą Python wywołuje wtedy kiedy tworzynt/inicjalizujemy nowy obiekt. "
   ]
  },
  {
   "cell_type": "code",
   "execution_count": 9,
   "metadata": {},
   "outputs": [
    {
     "name": "stdout",
     "output_type": "stream",
     "text": [
      "Rex\n"
     ]
    }
   ],
   "source": [
    "rex = Animal(\"Rex\", 10, \"canis familiaris\")\n",
    "\n",
    "print(rex.name)\n",
    "print(rex.age)\n"
   ]
  },
  {
   "cell_type": "markdown",
   "metadata": {},
   "source": [
    "Oczywiście utworzone atrybuty możemy zmieniać:"
   ]
  },
  {
   "cell_type": "code",
   "execution_count": 10,
   "metadata": {},
   "outputs": [
    {
     "data": {
      "text/plain": [
       "11"
      ]
     },
     "execution_count": 10,
     "metadata": {},
     "output_type": "execute_result"
    }
   ],
   "source": [
    "rex.age = rex.age + 1 # pies miał urodziny\n",
    "\n",
    "rex.age"
   ]
  },
  {
   "cell_type": "markdown",
   "metadata": {},
   "source": [
    "Oprócz atrybutów przynależnych do konkretnej instancji możemy też utworzyć atrybuty klasowe"
   ]
  },
  {
   "cell_type": "code",
   "execution_count": 12,
   "metadata": {},
   "outputs": [],
   "source": [
    "class Dog:\n",
    "\n",
    "    # Class Attribute\n",
    "    species = 'Canis Familiaris'\n",
    "\n",
    "    # Initializer / Instance Attributes\n",
    "    def __init__(self, name, age):\n",
    "        self.name = name\n",
    "        self.age = age"
   ]
  },
  {
   "cell_type": "code",
   "execution_count": 13,
   "metadata": {},
   "outputs": [],
   "source": [
    "rex = Dog(\"Rex\", 10)"
   ]
  },
  {
   "cell_type": "code",
   "execution_count": 14,
   "metadata": {},
   "outputs": [
    {
     "data": {
      "text/plain": [
       "'Canis Familiaris'"
      ]
     },
     "execution_count": 14,
     "metadata": {},
     "output_type": "execute_result"
    }
   ],
   "source": [
    "rex.species"
   ]
  },
  {
   "cell_type": "code",
   "execution_count": 15,
   "metadata": {},
   "outputs": [
    {
     "data": {
      "text/plain": [
       "'Canis Familiaris'"
      ]
     },
     "execution_count": 15,
     "metadata": {},
     "output_type": "execute_result"
    }
   ],
   "source": [
    "azor = Dog(\"Azor\", 2)\n",
    "azor.species"
   ]
  },
  {
   "cell_type": "markdown",
   "metadata": {},
   "source": [
    "czyli każdy pies może mieć inne imie i wiek, ale każdy należy do gatunku 'canis familiaris'"
   ]
  },
  {
   "cell_type": "markdown",
   "metadata": {},
   "source": [
    "*Ćwiczenie:* Utwórz kilka instanji klasy Dog. Utwórz też funkcję `najstarszy`, która przyjmie dowolną ilość instancji klasy Dog i zwróci tę, w której atrybut 'age' ma największą wartość\n"
   ]
  },
  {
   "cell_type": "code",
   "execution_count": null,
   "metadata": {},
   "outputs": [],
   "source": []
  },
  {
   "cell_type": "code",
   "execution_count": null,
   "metadata": {},
   "outputs": [],
   "source": []
  },
  {
   "cell_type": "code",
   "execution_count": null,
   "metadata": {},
   "outputs": [],
   "source": []
  },
  {
   "cell_type": "code",
   "execution_count": null,
   "metadata": {},
   "outputs": [],
   "source": []
  },
  {
   "cell_type": "code",
   "execution_count": null,
   "metadata": {},
   "outputs": [],
   "source": []
  },
  {
   "cell_type": "code",
   "execution_count": null,
   "metadata": {},
   "outputs": [],
   "source": []
  },
  {
   "cell_type": "code",
   "execution_count": 20,
   "metadata": {},
   "outputs": [
    {
     "name": "stdout",
     "output_type": "stream",
     "text": [
      "Najstarszy pies to Tina, ma 15\n"
     ]
    }
   ],
   "source": [
    "tina = Dog(\"Tina\", 15)\n",
    "\n",
    "\n",
    "def najstarszy(*dogs):\n",
    "    dog_ages=[]\n",
    "    for dog in dogs:\n",
    "        dog_ages.append((dog.age, dog))\n",
    "    \n",
    "    dog_ages.sort(reverse=True)\n",
    "    return dog_ages[0][1]\n",
    "\n",
    "oldest = najstarszy(rex, azor, tina)\n",
    "print(f\"Najstarszy pies to {oldest.name}, ma {oldest.age}\")"
   ]
  },
  {
   "cell_type": "markdown",
   "metadata": {},
   "source": [
    "### Metody instancji\n",
    "\n",
    "\n",
    "Metody instancji są definiowane wewnątrz klasy i służą do pobierania zawartości instancji. Mogą być również używane do wykonywania operacji z atrybutami naszych obiektów. Podobnie jak w przypadku metody `__init__`, pierwszym argumentem jest zawsze `self`:"
   ]
  },
  {
   "cell_type": "code",
   "execution_count": 22,
   "metadata": {},
   "outputs": [
    {
     "data": {
      "text/plain": [
       "'Azor ma 10 lat'"
      ]
     },
     "execution_count": 22,
     "metadata": {},
     "output_type": "execute_result"
    }
   ],
   "source": [
    "class Dog:\n",
    "\n",
    "    # Class Attribute\n",
    "    species = 'Canis Familiaris'\n",
    "\n",
    "    # Initializer / Instance Attributes\n",
    "    def __init__(self, name, age):\n",
    "        self.name = name\n",
    "        self.age = age\n",
    "        \n",
    "    def opis(self):\n",
    "        return f\"{self.name} ma {self.age} lat\"\n",
    "    \n",
    "    def daj_glos(self, dzwiek=\"Hau\"):\n",
    "        return f\"{self.name} mówi {dzwiek}\"\n",
    "    \n",
    "azor = Dog(\"Azor\", 10)\n",
    "azor.opis()\n",
    "    "
   ]
  },
  {
   "cell_type": "code",
   "execution_count": 24,
   "metadata": {},
   "outputs": [
    {
     "data": {
      "text/plain": [
       "'Azor mówi Hau'"
      ]
     },
     "execution_count": 24,
     "metadata": {},
     "output_type": "execute_result"
    }
   ],
   "source": [
    "azor.daj_glos()"
   ]
  },
  {
   "cell_type": "code",
   "execution_count": 27,
   "metadata": {},
   "outputs": [
    {
     "data": {
      "text/plain": [
       "'Azor mówi Wow'"
      ]
     },
     "execution_count": 27,
     "metadata": {},
     "output_type": "execute_result"
    }
   ],
   "source": [
    "azor.daj_glos(\"Wow\")"
   ]
  },
  {
   "cell_type": "markdown",
   "metadata": {},
   "source": [
    "### Modyfikacja atrybutów\n",
    "\n",
    "Wartości atrybutów instancji możemy zmieniać odwołując się bezpośrednio do atrybuty, bądż też poprzez jakąś metodę"
   ]
  },
  {
   "cell_type": "code",
   "execution_count": 28,
   "metadata": {},
   "outputs": [
    {
     "name": "stdout",
     "output_type": "stream",
     "text": [
      "False\n",
      "Subject: \n",
      "Raport\n"
     ]
    },
    {
     "data": {
      "text/plain": [
       "True"
      ]
     },
     "execution_count": 28,
     "metadata": {},
     "output_type": "execute_result"
    }
   ],
   "source": [
    "class Email:\n",
    "    def __init__(self):\n",
    "        self.title = \"Subject: \"\n",
    "        self.is_sent = False\n",
    "    def send_email(self):\n",
    "        self.is_sent = True\n",
    "\n",
    "my_email = Email()\n",
    "print(my_email.is_sent)\n",
    "False\n",
    "\n",
    "print(my_email.title)\n",
    "my_email.title = \"Raport\"\n",
    "print(my_email.title)\n",
    "\n",
    "my_email.send_email()\n",
    "my_email.is_sent\n"
   ]
  },
  {
   "cell_type": "markdown",
   "metadata": {},
   "source": [
    "### Dziedzicznie\n",
    "\n",
    "\n",
    "Dziedziczenie to proces, w którym jedna klasa przejmuje atrybuty i metody innej. Nowo utworzone klasy są nazywane klasami potomnymi, a klasy, z których wywodzą się klasy potomne, nazywane są klasami nadrzędnymi.\n",
    "\n",
    "Należy zauważyć, że klasy potomne zastępują lub rozszerzają funkcjonalność (np. atrybuty i zachowania) klas nadrzędnych. Innymi słowy, klasy potomne dziedziczą wszystkie atrybuty i zachowania rodzica, ale mogą również określać inne zachowania, które należy przestrzegać. Najbardziej podstawowym typem klasy jest `object`, który ogólnie wszystkie pozostałe klasy dziedziczą jako rodzic.\n",
    "\n",
    "Kiedy definiujesz nową klasę, Python 3 niejawnie używa obiektu jako klasy nadrzędnej. Zatem poniższe dwie definicje są równoważne:\n",
    "\n",
    "    class Dog(object):\n",
    "        pass\n",
    "\n",
    "    class Dog:\n",
    "        pass"
   ]
  },
  {
   "cell_type": "markdown",
   "metadata": {},
   "source": [
    "Wyobraźmy sobie, że jesteśmy w parku dla psów. Istnieje wiele obiektów klasy `Dog` angażujących się w zachowania psów, z których każdy ma inne atrybuty. Mówiąc po ludzku oznacza to, że niektóre psy biegną, a niektóre rozciągają się, a inne po prostu obserwują inne psy. Co więcej, każdy pies został nazwany przez jego właściciela, a ponieważ każdy pies żyje i oddycha, czyli żyje to charakteryzuje się też jakimś wiekiem.\n",
    "\n",
    "Odróżnić jednego psa od drugiego moglibyśmy też na oko np na podstawie jego rasy"
   ]
  },
  {
   "cell_type": "code",
   "execution_count": 29,
   "metadata": {},
   "outputs": [
    {
     "name": "stdout",
     "output_type": "stream",
     "text": [
      "German Shepard\n",
      "Boston Terrier\n"
     ]
    }
   ],
   "source": [
    "class Dog:\n",
    "    def __init__(self, breed):\n",
    "        self.breed = breed\n",
    "\n",
    "spencer = Dog(\"German Shepard\")\n",
    "print(spencer.breed)\n",
    "\n",
    "sara = Dog(\"Boston Terrier\")\n",
    "print(sara.breed)\n"
   ]
  },
  {
   "cell_type": "markdown",
   "metadata": {},
   "source": [
    "Każda rasa psa ma nieco inne zachowania. Aby wziąć je pod uwagę, stwórzmy osobne klasę dla każdej rasy. Będą to klasy potomne klasy `Dog`."
   ]
  },
  {
   "cell_type": "code",
   "execution_count": 34,
   "metadata": {},
   "outputs": [
    {
     "name": "stdout",
     "output_type": "stream",
     "text": [
      "Jim is 12 years old\n",
      "Jim runs slowly\n",
      "Roxy runs Very Fast\n"
     ]
    }
   ],
   "source": [
    "# Parent class\n",
    "class Dog:\n",
    "\n",
    "    # Class attribute\n",
    "    species = 'Canis Familiaris'\n",
    "\n",
    "    # Initializer / Instance attributes\n",
    "    def __init__(self, name, age):\n",
    "        self.name = name\n",
    "        self.age = age\n",
    "\n",
    "    # instance method\n",
    "    def description(self):\n",
    "        return \"{} is {} years old\".format(self.name, self.age)\n",
    "\n",
    "    # instance method\n",
    "    def speak(self, sound):\n",
    "        return \"{} says {}\".format(self.name, sound)\n",
    "\n",
    "    def run(self):\n",
    "        return \"{} runs normal\".format(self.name)\n",
    "        \n",
    "    \n",
    "# Child class (inherits from Dog class)\n",
    "class RussellTerrier(Dog):\n",
    "    breed = 'Russel Terrier'\n",
    "    \n",
    "    def __init__(self, name, age, speed='fast'):\n",
    "        self.speed = speed\n",
    "        super().__init__(name, age)\n",
    "    \n",
    "    def run(self):\n",
    "        return f\"{self.name} runs {self.speed}\"\n",
    "\n",
    "\n",
    "# Child class (inherits from Dog class)\n",
    "class Bulldog(Dog):\n",
    "    breed = 'Bulldog'\n",
    "    \n",
    "    def run(self):\n",
    "        return f\"{self.name} runs slowly\"\n",
    "\n",
    "\n",
    "# Child classes inherit attributes and\n",
    "# behaviors from the parent class\n",
    "jim = Bulldog(\"Jim\", 12)\n",
    "print(jim.description())\n",
    "\n",
    "# Child classes have specific attributes\n",
    "# and behaviors as well\n",
    "print(jim.run())\n",
    "\n",
    "roxy = RussellTerrier(\"Roxy\", 12, 'Very Fast')\n",
    "print(roxy.run())"
   ]
  },
  {
   "cell_type": "code",
   "execution_count": null,
   "metadata": {},
   "outputs": [],
   "source": []
  },
  {
   "cell_type": "code",
   "execution_count": null,
   "metadata": {},
   "outputs": [],
   "source": []
  },
  {
   "cell_type": "markdown",
   "metadata": {},
   "source": [
    "Na podstawie: https://realpython.com/python3-object-oriented-programming/#what-is-object-oriented-programming-oop"
   ]
  },
  {
   "cell_type": "code",
   "execution_count": null,
   "metadata": {},
   "outputs": [],
   "source": []
  }
 ],
 "metadata": {
  "kernelspec": {
   "display_name": "Python 3",
   "language": "python",
   "name": "python3"
  },
  "language_info": {
   "codemirror_mode": {
    "name": "ipython",
    "version": 3
   },
   "file_extension": ".py",
   "mimetype": "text/x-python",
   "name": "python",
   "nbconvert_exporter": "python",
   "pygments_lexer": "ipython3",
   "version": "3.7.0"
  }
 },
 "nbformat": 4,
 "nbformat_minor": 2
}
